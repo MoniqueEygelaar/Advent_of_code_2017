{
 "cells": [
  {
   "cell_type": "code",
   "execution_count": 3,
   "metadata": {},
   "outputs": [],
   "source": [
    "\n",
    "import numpy as np\n",
    "import pandas as pd\n",
    "import itertools\n",
    "import math"
   ]
  },
  {
   "cell_type": "code",
   "execution_count": null,
   "metadata": {},
   "outputs": [],
   "source": []
  },
  {
   "cell_type": "code",
   "execution_count": 4,
   "metadata": {},
   "outputs": [
    {
     "name": "stdout",
     "output_type": "stream",
     "text": [
      "Part1 =  552\n"
     ]
    }
   ],
   "source": [
    "your_input_value = 325489\n",
    "\n",
    "s_value = range(1,600)\n",
    "\n",
    "s = []\n",
    "\n",
    "for i in s_value:\n",
    "    if i % 2 != 0:\n",
    "        s.append(i**2)\n",
    "        \n",
    "for ix, x in enumerate(s):\n",
    "    if x < your_input_value <= s[ix+1]:\n",
    "        pos = ix+1\n",
    "        dif = s[ix+1] - your_input_value\n",
    "        \n",
    "        print(\"Part1 = \" ,dif)\n"
   ]
  },
  {
   "cell_type": "code",
   "execution_count": null,
   "metadata": {},
   "outputs": [],
   "source": []
  },
  {
   "cell_type": "code",
   "execution_count": null,
   "metadata": {},
   "outputs": [],
   "source": []
  }
 ],
 "metadata": {
  "kernelspec": {
   "display_name": "Python 3",
   "language": "python",
   "name": "python3"
  },
  "language_info": {
   "codemirror_mode": {
    "name": "ipython",
    "version": 3
   },
   "file_extension": ".py",
   "mimetype": "text/x-python",
   "name": "python",
   "nbconvert_exporter": "python",
   "pygments_lexer": "ipython3",
   "version": "3.8.5"
  }
 },
 "nbformat": 4,
 "nbformat_minor": 4
}
