{
 "cells": [
  {
   "cell_type": "code",
   "execution_count": 4,
   "metadata": {},
   "outputs": [],
   "source": [
    "\n",
    "import numpy as np\n",
    "import pandas as pd\n",
    "import itertools\n",
    "import math"
   ]
  },
  {
   "cell_type": "markdown",
   "metadata": {},
   "source": [
    "### Part 1"
   ]
  },
  {
   "cell_type": "code",
   "execution_count": 6,
   "metadata": {},
   "outputs": [
    {
     "name": "stdout",
     "output_type": "stream",
     "text": [
      "Part1 =  451\n"
     ]
    }
   ],
   "source": [
    "my_counter = 0\n",
    "\n",
    "def check_dups(line_in):\n",
    "    if len(line_in) == len(set(line_in)):\n",
    "        global my_counter \n",
    "        my_counter += 1\n",
    "\n",
    "    \n",
    "    \n",
    "    \n",
    "    \n",
    "with open(\"input_day4.txt\") as fx:\n",
    "\n",
    "    for line in fx:\n",
    "        line = line.strip().split()\n",
    "        check_dups(line)\n",
    "        \n",
    "        \n",
    "        for ix, word in enumerate(line):\n",
    "            word_list = []\n",
    "            x = list(map(\"\".join, itertools.permutations(line[ix])))\n",
    "     \n",
    "            \n",
    "print(\"Part1 = \",my_counter)\n"
   ]
  },
  {
   "cell_type": "code",
   "execution_count": null,
   "metadata": {},
   "outputs": [],
   "source": []
  },
  {
   "cell_type": "code",
   "execution_count": null,
   "metadata": {},
   "outputs": [],
   "source": []
  }
 ],
 "metadata": {
  "kernelspec": {
   "display_name": "Python 3",
   "language": "python",
   "name": "python3"
  },
  "language_info": {
   "codemirror_mode": {
    "name": "ipython",
    "version": 3
   },
   "file_extension": ".py",
   "mimetype": "text/x-python",
   "name": "python",
   "nbconvert_exporter": "python",
   "pygments_lexer": "ipython3",
   "version": "3.8.5"
  }
 },
 "nbformat": 4,
 "nbformat_minor": 4
}
