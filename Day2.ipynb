{
 "cells": [
  {
   "cell_type": "markdown",
   "metadata": {},
   "source": [
    "##    Advent of Code Day 2 "
   ]
  },
  {
   "cell_type": "code",
   "execution_count": 108,
   "metadata": {},
   "outputs": [],
   "source": [
    "# IMPORTS\n",
    "# I always import numpy & pandas (Even if they are not needed)\n",
    "#\n",
    "\n",
    "import numpy as np\n",
    "import pandas as pd\n",
    "import itertools"
   ]
  },
  {
   "cell_type": "markdown",
   "metadata": {},
   "source": [
    "### Read file in as dataframe"
   ]
  },
  {
   "cell_type": "code",
   "execution_count": 109,
   "metadata": {},
   "outputs": [],
   "source": [
    "df = pd.read_csv(\"input_day2.txt\", sep=\"\\t\", header=None)"
   ]
  },
  {
   "cell_type": "markdown",
   "metadata": {},
   "source": [
    "### Calculation:"
   ]
  },
  {
   "cell_type": "code",
   "execution_count": 111,
   "metadata": {},
   "outputs": [
    {
     "name": "stdout",
     "output_type": "stream",
     "text": [
      "Part1 =  53460\n",
      "Part2 =  282.0\n"
     ]
    }
   ],
   "source": [
    "checksum = sum(df.max(axis=1) - df.min(axis=1))\n",
    "print(\"Part1 = \", checksum)\n",
    "\n",
    "rows = len(df.index)\n",
    "\n",
    "sum_2 = 0\n",
    "\n",
    "for r in range(rows):\n",
    "    row = (df.loc[r,:])\n",
    "    for x in itertools.combinations(list(row),2):\n",
    "        if max(x) % min(x) == 0:\n",
    "            sum_2 += (max(x) / min(x))\n",
    "            \n",
    "print(\"Part2 = \",sum_2)"
   ]
  },
  {
   "cell_type": "code",
   "execution_count": null,
   "metadata": {},
   "outputs": [],
   "source": []
  }
 ],
 "metadata": {
  "kernelspec": {
   "display_name": "Python 3",
   "language": "python",
   "name": "python3"
  },
  "language_info": {
   "codemirror_mode": {
    "name": "ipython",
    "version": 3
   },
   "file_extension": ".py",
   "mimetype": "text/x-python",
   "name": "python",
   "nbconvert_exporter": "python",
   "pygments_lexer": "ipython3",
   "version": "3.8.5"
  }
 },
 "nbformat": 4,
 "nbformat_minor": 4
}
